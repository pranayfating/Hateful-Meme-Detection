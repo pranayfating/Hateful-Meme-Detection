{
  "nbformat": 4,
  "nbformat_minor": 0,
  "metadata": {
    "kernelspec": {
      "display_name": "Python 3",
      "language": "python",
      "name": "python3"
    },
    "language_info": {
      "codemirror_mode": {
        "name": "ipython",
        "version": 3
      },
      "file_extension": ".py",
      "mimetype": "text/x-python",
      "name": "python",
      "nbconvert_exporter": "python",
      "pygments_lexer": "ipython3",
      "version": "3.7.9"
    },
    "papermill": {
      "default_parameters": {},
      "duration": 479.880019,
      "end_time": "2021-03-01T12:40:19.594708",
      "environment_variables": {},
      "exception": null,
      "input_path": "__notebook__.ipynb",
      "output_path": "__notebook__.ipynb",
      "parameters": {},
      "start_time": "2021-03-01T12:32:19.714689",
      "version": "2.2.2"
    },
    "colab": {
      "name": "resnext101_32x8d (1).ipynb",
      "provenance": [],
      "collapsed_sections": []
    },
    "accelerator": "GPU",
    "widgets": {
      "application/vnd.jupyter.widget-state+json": {
        "6b1f656eb315461c8f004162ce077d4e": {
          "model_module": "@jupyter-widgets/controls",
          "model_name": "HBoxModel",
          "state": {
            "_view_name": "HBoxView",
            "_dom_classes": [],
            "_model_name": "HBoxModel",
            "_view_module": "@jupyter-widgets/controls",
            "_model_module_version": "1.5.0",
            "_view_count": null,
            "_view_module_version": "1.5.0",
            "box_style": "",
            "layout": "IPY_MODEL_cf1d8f4514a44a8dbb18c79667d47664",
            "_model_module": "@jupyter-widgets/controls",
            "children": [
              "IPY_MODEL_8a29df51fa3040c98f9d7c4d1253a139",
              "IPY_MODEL_17ea322be78042fb91fd461512254212"
            ]
          }
        },
        "cf1d8f4514a44a8dbb18c79667d47664": {
          "model_module": "@jupyter-widgets/base",
          "model_name": "LayoutModel",
          "state": {
            "_view_name": "LayoutView",
            "grid_template_rows": null,
            "right": null,
            "justify_content": null,
            "_view_module": "@jupyter-widgets/base",
            "overflow": null,
            "_model_module_version": "1.2.0",
            "_view_count": null,
            "flex_flow": null,
            "width": null,
            "min_width": null,
            "border": null,
            "align_items": null,
            "bottom": null,
            "_model_module": "@jupyter-widgets/base",
            "top": null,
            "grid_column": null,
            "overflow_y": null,
            "overflow_x": null,
            "grid_auto_flow": null,
            "grid_area": null,
            "grid_template_columns": null,
            "flex": null,
            "_model_name": "LayoutModel",
            "justify_items": null,
            "grid_row": null,
            "max_height": null,
            "align_content": null,
            "visibility": null,
            "align_self": null,
            "height": null,
            "min_height": null,
            "padding": null,
            "grid_auto_rows": null,
            "grid_gap": null,
            "max_width": null,
            "order": null,
            "_view_module_version": "1.2.0",
            "grid_template_areas": null,
            "object_position": null,
            "object_fit": null,
            "grid_auto_columns": null,
            "margin": null,
            "display": null,
            "left": null
          }
        },
        "8a29df51fa3040c98f9d7c4d1253a139": {
          "model_module": "@jupyter-widgets/controls",
          "model_name": "FloatProgressModel",
          "state": {
            "_view_name": "ProgressView",
            "style": "IPY_MODEL_61fc5d19195b4abd878f17560b3bf789",
            "_dom_classes": [],
            "description": "Downloading: 100%",
            "_model_name": "FloatProgressModel",
            "bar_style": "success",
            "max": 231508,
            "_view_module": "@jupyter-widgets/controls",
            "_model_module_version": "1.5.0",
            "value": 231508,
            "_view_count": null,
            "_view_module_version": "1.5.0",
            "orientation": "horizontal",
            "min": 0,
            "description_tooltip": null,
            "_model_module": "@jupyter-widgets/controls",
            "layout": "IPY_MODEL_05ed05de947547d79a091b16f1276e76"
          }
        },
        "17ea322be78042fb91fd461512254212": {
          "model_module": "@jupyter-widgets/controls",
          "model_name": "HTMLModel",
          "state": {
            "_view_name": "HTMLView",
            "style": "IPY_MODEL_f8f8cebcd19e46caaf528cbe7262bdfd",
            "_dom_classes": [],
            "description": "",
            "_model_name": "HTMLModel",
            "placeholder": "​",
            "_view_module": "@jupyter-widgets/controls",
            "_model_module_version": "1.5.0",
            "value": " 232k/232k [00:00&lt;00:00, 635kB/s]",
            "_view_count": null,
            "_view_module_version": "1.5.0",
            "description_tooltip": null,
            "_model_module": "@jupyter-widgets/controls",
            "layout": "IPY_MODEL_ff7c4134c4b1499a9970c450ddaef01e"
          }
        },
        "61fc5d19195b4abd878f17560b3bf789": {
          "model_module": "@jupyter-widgets/controls",
          "model_name": "ProgressStyleModel",
          "state": {
            "_view_name": "StyleView",
            "_model_name": "ProgressStyleModel",
            "description_width": "initial",
            "_view_module": "@jupyter-widgets/base",
            "_model_module_version": "1.5.0",
            "_view_count": null,
            "_view_module_version": "1.2.0",
            "bar_color": null,
            "_model_module": "@jupyter-widgets/controls"
          }
        },
        "05ed05de947547d79a091b16f1276e76": {
          "model_module": "@jupyter-widgets/base",
          "model_name": "LayoutModel",
          "state": {
            "_view_name": "LayoutView",
            "grid_template_rows": null,
            "right": null,
            "justify_content": null,
            "_view_module": "@jupyter-widgets/base",
            "overflow": null,
            "_model_module_version": "1.2.0",
            "_view_count": null,
            "flex_flow": null,
            "width": null,
            "min_width": null,
            "border": null,
            "align_items": null,
            "bottom": null,
            "_model_module": "@jupyter-widgets/base",
            "top": null,
            "grid_column": null,
            "overflow_y": null,
            "overflow_x": null,
            "grid_auto_flow": null,
            "grid_area": null,
            "grid_template_columns": null,
            "flex": null,
            "_model_name": "LayoutModel",
            "justify_items": null,
            "grid_row": null,
            "max_height": null,
            "align_content": null,
            "visibility": null,
            "align_self": null,
            "height": null,
            "min_height": null,
            "padding": null,
            "grid_auto_rows": null,
            "grid_gap": null,
            "max_width": null,
            "order": null,
            "_view_module_version": "1.2.0",
            "grid_template_areas": null,
            "object_position": null,
            "object_fit": null,
            "grid_auto_columns": null,
            "margin": null,
            "display": null,
            "left": null
          }
        },
        "f8f8cebcd19e46caaf528cbe7262bdfd": {
          "model_module": "@jupyter-widgets/controls",
          "model_name": "DescriptionStyleModel",
          "state": {
            "_view_name": "StyleView",
            "_model_name": "DescriptionStyleModel",
            "description_width": "",
            "_view_module": "@jupyter-widgets/base",
            "_model_module_version": "1.5.0",
            "_view_count": null,
            "_view_module_version": "1.2.0",
            "_model_module": "@jupyter-widgets/controls"
          }
        },
        "ff7c4134c4b1499a9970c450ddaef01e": {
          "model_module": "@jupyter-widgets/base",
          "model_name": "LayoutModel",
          "state": {
            "_view_name": "LayoutView",
            "grid_template_rows": null,
            "right": null,
            "justify_content": null,
            "_view_module": "@jupyter-widgets/base",
            "overflow": null,
            "_model_module_version": "1.2.0",
            "_view_count": null,
            "flex_flow": null,
            "width": null,
            "min_width": null,
            "border": null,
            "align_items": null,
            "bottom": null,
            "_model_module": "@jupyter-widgets/base",
            "top": null,
            "grid_column": null,
            "overflow_y": null,
            "overflow_x": null,
            "grid_auto_flow": null,
            "grid_area": null,
            "grid_template_columns": null,
            "flex": null,
            "_model_name": "LayoutModel",
            "justify_items": null,
            "grid_row": null,
            "max_height": null,
            "align_content": null,
            "visibility": null,
            "align_self": null,
            "height": null,
            "min_height": null,
            "padding": null,
            "grid_auto_rows": null,
            "grid_gap": null,
            "max_width": null,
            "order": null,
            "_view_module_version": "1.2.0",
            "grid_template_areas": null,
            "object_position": null,
            "object_fit": null,
            "grid_auto_columns": null,
            "margin": null,
            "display": null,
            "left": null
          }
        },
        "4a125e102d5b4d93bbd7d6b1fcd942d7": {
          "model_module": "@jupyter-widgets/controls",
          "model_name": "HBoxModel",
          "state": {
            "_view_name": "HBoxView",
            "_dom_classes": [],
            "_model_name": "HBoxModel",
            "_view_module": "@jupyter-widgets/controls",
            "_model_module_version": "1.5.0",
            "_view_count": null,
            "_view_module_version": "1.5.0",
            "box_style": "",
            "layout": "IPY_MODEL_dc50b3d3e6344bc68a8c078cac7f8269",
            "_model_module": "@jupyter-widgets/controls",
            "children": [
              "IPY_MODEL_8eb5fce7fe9a4a8fa0c40ee52ee8a2dd",
              "IPY_MODEL_b37a166a7184482dbafde12e73fab8d1"
            ]
          }
        },
        "dc50b3d3e6344bc68a8c078cac7f8269": {
          "model_module": "@jupyter-widgets/base",
          "model_name": "LayoutModel",
          "state": {
            "_view_name": "LayoutView",
            "grid_template_rows": null,
            "right": null,
            "justify_content": null,
            "_view_module": "@jupyter-widgets/base",
            "overflow": null,
            "_model_module_version": "1.2.0",
            "_view_count": null,
            "flex_flow": null,
            "width": null,
            "min_width": null,
            "border": null,
            "align_items": null,
            "bottom": null,
            "_model_module": "@jupyter-widgets/base",
            "top": null,
            "grid_column": null,
            "overflow_y": null,
            "overflow_x": null,
            "grid_auto_flow": null,
            "grid_area": null,
            "grid_template_columns": null,
            "flex": null,
            "_model_name": "LayoutModel",
            "justify_items": null,
            "grid_row": null,
            "max_height": null,
            "align_content": null,
            "visibility": null,
            "align_self": null,
            "height": null,
            "min_height": null,
            "padding": null,
            "grid_auto_rows": null,
            "grid_gap": null,
            "max_width": null,
            "order": null,
            "_view_module_version": "1.2.0",
            "grid_template_areas": null,
            "object_position": null,
            "object_fit": null,
            "grid_auto_columns": null,
            "margin": null,
            "display": null,
            "left": null
          }
        },
        "8eb5fce7fe9a4a8fa0c40ee52ee8a2dd": {
          "model_module": "@jupyter-widgets/controls",
          "model_name": "FloatProgressModel",
          "state": {
            "_view_name": "ProgressView",
            "style": "IPY_MODEL_a67b2e76570c4ea995abb466e2587a8f",
            "_dom_classes": [],
            "description": "100%",
            "_model_name": "FloatProgressModel",
            "bar_style": "success",
            "max": 356082095,
            "_view_module": "@jupyter-widgets/controls",
            "_model_module_version": "1.5.0",
            "value": 356082095,
            "_view_count": null,
            "_view_module_version": "1.5.0",
            "orientation": "horizontal",
            "min": 0,
            "description_tooltip": null,
            "_model_module": "@jupyter-widgets/controls",
            "layout": "IPY_MODEL_ca1e3ec02e514f5d84943882a6b47366"
          }
        },
        "b37a166a7184482dbafde12e73fab8d1": {
          "model_module": "@jupyter-widgets/controls",
          "model_name": "HTMLModel",
          "state": {
            "_view_name": "HTMLView",
            "style": "IPY_MODEL_9da18503c8514ef197af95a7b7bcd4aa",
            "_dom_classes": [],
            "description": "",
            "_model_name": "HTMLModel",
            "placeholder": "​",
            "_view_module": "@jupyter-widgets/controls",
            "_model_module_version": "1.5.0",
            "value": " 340M/340M [00:10&lt;00:00, 33.3MB/s]",
            "_view_count": null,
            "_view_module_version": "1.5.0",
            "description_tooltip": null,
            "_model_module": "@jupyter-widgets/controls",
            "layout": "IPY_MODEL_52de437337b64f99be11d7884bf12ead"
          }
        },
        "a67b2e76570c4ea995abb466e2587a8f": {
          "model_module": "@jupyter-widgets/controls",
          "model_name": "ProgressStyleModel",
          "state": {
            "_view_name": "StyleView",
            "_model_name": "ProgressStyleModel",
            "description_width": "initial",
            "_view_module": "@jupyter-widgets/base",
            "_model_module_version": "1.5.0",
            "_view_count": null,
            "_view_module_version": "1.2.0",
            "bar_color": null,
            "_model_module": "@jupyter-widgets/controls"
          }
        },
        "ca1e3ec02e514f5d84943882a6b47366": {
          "model_module": "@jupyter-widgets/base",
          "model_name": "LayoutModel",
          "state": {
            "_view_name": "LayoutView",
            "grid_template_rows": null,
            "right": null,
            "justify_content": null,
            "_view_module": "@jupyter-widgets/base",
            "overflow": null,
            "_model_module_version": "1.2.0",
            "_view_count": null,
            "flex_flow": null,
            "width": null,
            "min_width": null,
            "border": null,
            "align_items": null,
            "bottom": null,
            "_model_module": "@jupyter-widgets/base",
            "top": null,
            "grid_column": null,
            "overflow_y": null,
            "overflow_x": null,
            "grid_auto_flow": null,
            "grid_area": null,
            "grid_template_columns": null,
            "flex": null,
            "_model_name": "LayoutModel",
            "justify_items": null,
            "grid_row": null,
            "max_height": null,
            "align_content": null,
            "visibility": null,
            "align_self": null,
            "height": null,
            "min_height": null,
            "padding": null,
            "grid_auto_rows": null,
            "grid_gap": null,
            "max_width": null,
            "order": null,
            "_view_module_version": "1.2.0",
            "grid_template_areas": null,
            "object_position": null,
            "object_fit": null,
            "grid_auto_columns": null,
            "margin": null,
            "display": null,
            "left": null
          }
        },
        "9da18503c8514ef197af95a7b7bcd4aa": {
          "model_module": "@jupyter-widgets/controls",
          "model_name": "DescriptionStyleModel",
          "state": {
            "_view_name": "StyleView",
            "_model_name": "DescriptionStyleModel",
            "description_width": "",
            "_view_module": "@jupyter-widgets/base",
            "_model_module_version": "1.5.0",
            "_view_count": null,
            "_view_module_version": "1.2.0",
            "_model_module": "@jupyter-widgets/controls"
          }
        },
        "52de437337b64f99be11d7884bf12ead": {
          "model_module": "@jupyter-widgets/base",
          "model_name": "LayoutModel",
          "state": {
            "_view_name": "LayoutView",
            "grid_template_rows": null,
            "right": null,
            "justify_content": null,
            "_view_module": "@jupyter-widgets/base",
            "overflow": null,
            "_model_module_version": "1.2.0",
            "_view_count": null,
            "flex_flow": null,
            "width": null,
            "min_width": null,
            "border": null,
            "align_items": null,
            "bottom": null,
            "_model_module": "@jupyter-widgets/base",
            "top": null,
            "grid_column": null,
            "overflow_y": null,
            "overflow_x": null,
            "grid_auto_flow": null,
            "grid_area": null,
            "grid_template_columns": null,
            "flex": null,
            "_model_name": "LayoutModel",
            "justify_items": null,
            "grid_row": null,
            "max_height": null,
            "align_content": null,
            "visibility": null,
            "align_self": null,
            "height": null,
            "min_height": null,
            "padding": null,
            "grid_auto_rows": null,
            "grid_gap": null,
            "max_width": null,
            "order": null,
            "_view_module_version": "1.2.0",
            "grid_template_areas": null,
            "object_position": null,
            "object_fit": null,
            "grid_auto_columns": null,
            "margin": null,
            "display": null,
            "left": null
          }
        }
      }
    }
  },
  "cells": [
    {
      "cell_type": "markdown",
      "metadata": {
        "id": "view-in-github",
        "papermill": {
          "duration": 0.015397,
          "end_time": "2021-03-01T12:32:25.226511",
          "exception": false,
          "start_time": "2021-03-01T12:32:25.211114",
          "status": "completed"
        },
        "tags": []
      },
      "source": [
        "<a href=\"https://colab.research.google.com/github/Abhishek0697/Detection-of-Hate-Speech-in-Multimodal-Memes/blob/main/Code/Experiments/ResNeXt101_32x8d.ipynb\" target=\"_parent\"><img src=\"https://colab.research.google.com/assets/colab-badge.svg\" alt=\"Open In Colab\"/></a>"
      ]
    },
    {
      "cell_type": "code",
      "metadata": {
        "id": "6vMqv_0XFiyN"
      },
      "source": [
        "from google.colab import drive\n",
        "drive.mount('/content/gdrive', force_remount=True)\n",
        "\n"
      ],
      "execution_count": null,
      "outputs": []
    },
    {
      "cell_type": "code",
      "metadata": {
        "id": "ACeTtCOQ_YoT",
        "colab": {
          "base_uri": "https://localhost:8080/"
        },
        "outputId": "0f787c7c-ebb7-4cc9-c0b0-5d9607145a53"
      },
      "source": [
        "!ls"
      ],
      "execution_count": null,
      "outputs": [
        {
          "output_type": "stream",
          "text": [
            "drive  gdrive  sample_data\n"
          ],
          "name": "stdout"
        }
      ]
    },
    {
      "cell_type": "markdown",
      "metadata": {
        "id": "jEeLdU5K36nt"
      },
      "source": [
        ""
      ]
    },
    {
      "cell_type": "code",
      "metadata": {
        "id": "UD-fCAYGFjKb"
      },
      "source": [
        "import os\n",
        "os.environ['KAGGLE_CONFIG_DIR'] = \"/content/gdrive/My Drive/Kaggle\""
      ],
      "execution_count": null,
      "outputs": []
    },
    {
      "cell_type": "code",
      "metadata": {
        "id": "gOgEWd5wFjOB",
        "colab": {
          "base_uri": "https://localhost:8080/"
        },
        "outputId": "ae0668b6-b9fe-4c7b-c33d-f371cd51dfce"
      },
      "source": [
        "!kaggle datasets download -d parthplc/facebook-hateful-meme-dataset"
      ],
      "execution_count": null,
      "outputs": [
        {
          "output_type": "stream",
          "text": [
            "facebook-hateful-meme-dataset.zip: Skipping, found more recently modified local copy (use --force to force download)\n"
          ],
          "name": "stdout"
        }
      ]
    },
    {
      "cell_type": "code",
      "metadata": {
        "colab": {
          "base_uri": "https://localhost:8080/"
        },
        "id": "7DruzO8j5a-w",
        "outputId": "a40cc3de-20aa-4ca6-9aec-97494e1b81ca"
      },
      "source": [
        "%cd /content/gdrive/MyDrive/Kaggle/facebook-hateful-meme-dataset"
      ],
      "execution_count": null,
      "outputs": [
        {
          "output_type": "stream",
          "text": [
            "/content/gdrive/MyDrive/Kaggle/Facebook Hateful Meme Dataset\n"
          ],
          "name": "stdout"
        }
      ]
    },
    {
      "cell_type": "code",
      "metadata": {
        "id": "rbFJK2vK5gZ4"
      },
      "source": [
        "!unzip \\*.zip  && rm *.zip"
      ],
      "execution_count": null,
      "outputs": []
    },
    {
      "cell_type": "code",
      "metadata": {
        "id": "HflcQVoUFjQa",
        "colab": {
          "base_uri": "https://localhost:8080/"
        },
        "outputId": "860f09da-7a4c-4d73-a02f-67b9c1b77bc5"
      },
      "source": [
        "!pip install transformers\n"
      ],
      "execution_count": null,
      "outputs": [
        {
          "output_type": "stream",
          "text": [
            "Collecting transformers\n",
            "\u001b[?25l  Downloading https://files.pythonhosted.org/packages/f9/54/5ca07ec9569d2f232f3166de5457b63943882f7950ddfcc887732fc7fb23/transformers-4.3.3-py3-none-any.whl (1.9MB)\n",
            "\r\u001b[K     |▏                               | 10kB 18.9MB/s eta 0:00:01\r\u001b[K     |▍                               | 20kB 15.0MB/s eta 0:00:01\r\u001b[K     |▌                               | 30kB 8.9MB/s eta 0:00:01\r\u001b[K     |▊                               | 40kB 8.1MB/s eta 0:00:01\r\u001b[K     |▉                               | 51kB 8.3MB/s eta 0:00:01\r\u001b[K     |█                               | 61kB 8.1MB/s eta 0:00:01\r\u001b[K     |█▏                              | 71kB 8.8MB/s eta 0:00:01\r\u001b[K     |█▍                              | 81kB 8.0MB/s eta 0:00:01\r\u001b[K     |█▌                              | 92kB 7.8MB/s eta 0:00:01\r\u001b[K     |█▊                              | 102kB 8.1MB/s eta 0:00:01\r\u001b[K     |██                              | 112kB 8.1MB/s eta 0:00:01\r\u001b[K     |██                              | 122kB 8.1MB/s eta 0:00:01\r\u001b[K     |██▎                             | 133kB 8.1MB/s eta 0:00:01\r\u001b[K     |██▍                             | 143kB 8.1MB/s eta 0:00:01\r\u001b[K     |██▋                             | 153kB 8.1MB/s eta 0:00:01\r\u001b[K     |██▊                             | 163kB 8.1MB/s eta 0:00:01\r\u001b[K     |███                             | 174kB 8.1MB/s eta 0:00:01\r\u001b[K     |███                             | 184kB 8.1MB/s eta 0:00:01\r\u001b[K     |███▎                            | 194kB 8.1MB/s eta 0:00:01\r\u001b[K     |███▌                            | 204kB 8.1MB/s eta 0:00:01\r\u001b[K     |███▋                            | 215kB 8.1MB/s eta 0:00:01\r\u001b[K     |███▉                            | 225kB 8.1MB/s eta 0:00:01\r\u001b[K     |████                            | 235kB 8.1MB/s eta 0:00:01\r\u001b[K     |████▏                           | 245kB 8.1MB/s eta 0:00:01\r\u001b[K     |████▎                           | 256kB 8.1MB/s eta 0:00:01\r\u001b[K     |████▌                           | 266kB 8.1MB/s eta 0:00:01\r\u001b[K     |████▋                           | 276kB 8.1MB/s eta 0:00:01\r\u001b[K     |████▉                           | 286kB 8.1MB/s eta 0:00:01\r\u001b[K     |█████                           | 296kB 8.1MB/s eta 0:00:01\r\u001b[K     |█████▏                          | 307kB 8.1MB/s eta 0:00:01\r\u001b[K     |█████▍                          | 317kB 8.1MB/s eta 0:00:01\r\u001b[K     |█████▌                          | 327kB 8.1MB/s eta 0:00:01\r\u001b[K     |█████▊                          | 337kB 8.1MB/s eta 0:00:01\r\u001b[K     |█████▉                          | 348kB 8.1MB/s eta 0:00:01\r\u001b[K     |██████                          | 358kB 8.1MB/s eta 0:00:01\r\u001b[K     |██████▏                         | 368kB 8.1MB/s eta 0:00:01\r\u001b[K     |██████▍                         | 378kB 8.1MB/s eta 0:00:01\r\u001b[K     |██████▋                         | 389kB 8.1MB/s eta 0:00:01\r\u001b[K     |██████▊                         | 399kB 8.1MB/s eta 0:00:01\r\u001b[K     |███████                         | 409kB 8.1MB/s eta 0:00:01\r\u001b[K     |███████                         | 419kB 8.1MB/s eta 0:00:01\r\u001b[K     |███████▎                        | 430kB 8.1MB/s eta 0:00:01\r\u001b[K     |███████▍                        | 440kB 8.1MB/s eta 0:00:01\r\u001b[K     |███████▋                        | 450kB 8.1MB/s eta 0:00:01\r\u001b[K     |███████▊                        | 460kB 8.1MB/s eta 0:00:01\r\u001b[K     |████████                        | 471kB 8.1MB/s eta 0:00:01\r\u001b[K     |████████▏                       | 481kB 8.1MB/s eta 0:00:01\r\u001b[K     |████████▎                       | 491kB 8.1MB/s eta 0:00:01\r\u001b[K     |████████▌                       | 501kB 8.1MB/s eta 0:00:01\r\u001b[K     |████████▋                       | 512kB 8.1MB/s eta 0:00:01\r\u001b[K     |████████▉                       | 522kB 8.1MB/s eta 0:00:01\r\u001b[K     |█████████                       | 532kB 8.1MB/s eta 0:00:01\r\u001b[K     |█████████▏                      | 542kB 8.1MB/s eta 0:00:01\r\u001b[K     |█████████▎                      | 552kB 8.1MB/s eta 0:00:01\r\u001b[K     |█████████▌                      | 563kB 8.1MB/s eta 0:00:01\r\u001b[K     |█████████▊                      | 573kB 8.1MB/s eta 0:00:01\r\u001b[K     |█████████▉                      | 583kB 8.1MB/s eta 0:00:01\r\u001b[K     |██████████                      | 593kB 8.1MB/s eta 0:00:01\r\u001b[K     |██████████▏                     | 604kB 8.1MB/s eta 0:00:01\r\u001b[K     |██████████▍                     | 614kB 8.1MB/s eta 0:00:01\r\u001b[K     |██████████▌                     | 624kB 8.1MB/s eta 0:00:01\r\u001b[K     |██████████▊                     | 634kB 8.1MB/s eta 0:00:01\r\u001b[K     |██████████▉                     | 645kB 8.1MB/s eta 0:00:01\r\u001b[K     |███████████                     | 655kB 8.1MB/s eta 0:00:01\r\u001b[K     |███████████▎                    | 665kB 8.1MB/s eta 0:00:01\r\u001b[K     |███████████▍                    | 675kB 8.1MB/s eta 0:00:01\r\u001b[K     |███████████▋                    | 686kB 8.1MB/s eta 0:00:01\r\u001b[K     |███████████▊                    | 696kB 8.1MB/s eta 0:00:01\r\u001b[K     |████████████                    | 706kB 8.1MB/s eta 0:00:01\r\u001b[K     |████████████                    | 716kB 8.1MB/s eta 0:00:01\r\u001b[K     |████████████▎                   | 727kB 8.1MB/s eta 0:00:01\r\u001b[K     |████████████▍                   | 737kB 8.1MB/s eta 0:00:01\r\u001b[K     |████████████▋                   | 747kB 8.1MB/s eta 0:00:01\r\u001b[K     |████████████▉                   | 757kB 8.1MB/s eta 0:00:01\r\u001b[K     |█████████████                   | 768kB 8.1MB/s eta 0:00:01\r\u001b[K     |█████████████▏                  | 778kB 8.1MB/s eta 0:00:01\r\u001b[K     |█████████████▎                  | 788kB 8.1MB/s eta 0:00:01\r\u001b[K     |█████████████▌                  | 798kB 8.1MB/s eta 0:00:01\r\u001b[K     |█████████████▋                  | 808kB 8.1MB/s eta 0:00:01\r\u001b[K     |█████████████▉                  | 819kB 8.1MB/s eta 0:00:01\r\u001b[K     |██████████████                  | 829kB 8.1MB/s eta 0:00:01\r\u001b[K     |██████████████▏                 | 839kB 8.1MB/s eta 0:00:01\r\u001b[K     |██████████████▍                 | 849kB 8.1MB/s eta 0:00:01\r\u001b[K     |██████████████▌                 | 860kB 8.1MB/s eta 0:00:01\r\u001b[K     |██████████████▊                 | 870kB 8.1MB/s eta 0:00:01\r\u001b[K     |██████████████▉                 | 880kB 8.1MB/s eta 0:00:01\r\u001b[K     |███████████████                 | 890kB 8.1MB/s eta 0:00:01\r\u001b[K     |███████████████▏                | 901kB 8.1MB/s eta 0:00:01\r\u001b[K     |███████████████▍                | 911kB 8.1MB/s eta 0:00:01\r\u001b[K     |███████████████▌                | 921kB 8.1MB/s eta 0:00:01\r\u001b[K     |███████████████▊                | 931kB 8.1MB/s eta 0:00:01\r\u001b[K     |████████████████                | 942kB 8.1MB/s eta 0:00:01\r\u001b[K     |████████████████                | 952kB 8.1MB/s eta 0:00:01\r\u001b[K     |████████████████▎               | 962kB 8.1MB/s eta 0:00:01\r\u001b[K     |████████████████▍               | 972kB 8.1MB/s eta 0:00:01\r\u001b[K     |████████████████▋               | 983kB 8.1MB/s eta 0:00:01\r\u001b[K     |████████████████▊               | 993kB 8.1MB/s eta 0:00:01\r\u001b[K     |█████████████████               | 1.0MB 8.1MB/s eta 0:00:01\r\u001b[K     |█████████████████               | 1.0MB 8.1MB/s eta 0:00:01\r\u001b[K     |█████████████████▎              | 1.0MB 8.1MB/s eta 0:00:01\r\u001b[K     |█████████████████▍              | 1.0MB 8.1MB/s eta 0:00:01\r\u001b[K     |█████████████████▋              | 1.0MB 8.1MB/s eta 0:00:01\r\u001b[K     |█████████████████▉              | 1.1MB 8.1MB/s eta 0:00:01\r\u001b[K     |██████████████████              | 1.1MB 8.1MB/s eta 0:00:01\r\u001b[K     |██████████████████▏             | 1.1MB 8.1MB/s eta 0:00:01\r\u001b[K     |██████████████████▎             | 1.1MB 8.1MB/s eta 0:00:01\r\u001b[K     |██████████████████▌             | 1.1MB 8.1MB/s eta 0:00:01\r\u001b[K     |██████████████████▋             | 1.1MB 8.1MB/s eta 0:00:01\r\u001b[K     |██████████████████▉             | 1.1MB 8.1MB/s eta 0:00:01\r\u001b[K     |███████████████████             | 1.1MB 8.1MB/s eta 0:00:01\r\u001b[K     |███████████████████▏            | 1.1MB 8.1MB/s eta 0:00:01\r\u001b[K     |███████████████████▍            | 1.1MB 8.1MB/s eta 0:00:01\r\u001b[K     |███████████████████▌            | 1.2MB 8.1MB/s eta 0:00:01\r\u001b[K     |███████████████████▊            | 1.2MB 8.1MB/s eta 0:00:01\r\u001b[K     |███████████████████▉            | 1.2MB 8.1MB/s eta 0:00:01\r\u001b[K     |████████████████████            | 1.2MB 8.1MB/s eta 0:00:01\r\u001b[K     |████████████████████▏           | 1.2MB 8.1MB/s eta 0:00:01\r\u001b[K     |████████████████████▍           | 1.2MB 8.1MB/s eta 0:00:01\r\u001b[K     |████████████████████▌           | 1.2MB 8.1MB/s eta 0:00:01\r\u001b[K     |████████████████████▊           | 1.2MB 8.1MB/s eta 0:00:01\r\u001b[K     |█████████████████████           | 1.2MB 8.1MB/s eta 0:00:01\r\u001b[K     |█████████████████████           | 1.2MB 8.1MB/s eta 0:00:01\r\u001b[K     |█████████████████████▎          | 1.3MB 8.1MB/s eta 0:00:01\r\u001b[K     |█████████████████████▍          | 1.3MB 8.1MB/s eta 0:00:01\r\u001b[K     |█████████████████████▋          | 1.3MB 8.1MB/s eta 0:00:01\r\u001b[K     |█████████████████████▊          | 1.3MB 8.1MB/s eta 0:00:01\r\u001b[K     |██████████████████████          | 1.3MB 8.1MB/s eta 0:00:01\r\u001b[K     |██████████████████████          | 1.3MB 8.1MB/s eta 0:00:01\r\u001b[K     |██████████████████████▎         | 1.3MB 8.1MB/s eta 0:00:01\r\u001b[K     |██████████████████████▌         | 1.3MB 8.1MB/s eta 0:00:01\r\u001b[K     |██████████████████████▋         | 1.3MB 8.1MB/s eta 0:00:01\r\u001b[K     |██████████████████████▉         | 1.4MB 8.1MB/s eta 0:00:01\r\u001b[K     |███████████████████████         | 1.4MB 8.1MB/s eta 0:00:01\r\u001b[K     |███████████████████████▏        | 1.4MB 8.1MB/s eta 0:00:01\r\u001b[K     |███████████████████████▎        | 1.4MB 8.1MB/s eta 0:00:01\r\u001b[K     |███████████████████████▌        | 1.4MB 8.1MB/s eta 0:00:01\r\u001b[K     |███████████████████████▋        | 1.4MB 8.1MB/s eta 0:00:01\r\u001b[K     |███████████████████████▉        | 1.4MB 8.1MB/s eta 0:00:01\r\u001b[K     |████████████████████████        | 1.4MB 8.1MB/s eta 0:00:01\r\u001b[K     |████████████████████████▏       | 1.4MB 8.1MB/s eta 0:00:01\r\u001b[K     |████████████████████████▍       | 1.4MB 8.1MB/s eta 0:00:01\r\u001b[K     |████████████████████████▌       | 1.5MB 8.1MB/s eta 0:00:01\r\u001b[K     |████████████████████████▊       | 1.5MB 8.1MB/s eta 0:00:01\r\u001b[K     |████████████████████████▉       | 1.5MB 8.1MB/s eta 0:00:01\r\u001b[K     |█████████████████████████       | 1.5MB 8.1MB/s eta 0:00:01\r\u001b[K     |█████████████████████████▏      | 1.5MB 8.1MB/s eta 0:00:01\r\u001b[K     |█████████████████████████▍      | 1.5MB 8.1MB/s eta 0:00:01\r\u001b[K     |█████████████████████████▋      | 1.5MB 8.1MB/s eta 0:00:01\r\u001b[K     |█████████████████████████▊      | 1.5MB 8.1MB/s eta 0:00:01\r\u001b[K     |██████████████████████████      | 1.5MB 8.1MB/s eta 0:00:01\r\u001b[K     |██████████████████████████      | 1.5MB 8.1MB/s eta 0:00:01\r\u001b[K     |██████████████████████████▎     | 1.6MB 8.1MB/s eta 0:00:01\r\u001b[K     |██████████████████████████▍     | 1.6MB 8.1MB/s eta 0:00:01\r\u001b[K     |██████████████████████████▋     | 1.6MB 8.1MB/s eta 0:00:01\r\u001b[K     |██████████████████████████▊     | 1.6MB 8.1MB/s eta 0:00:01\r\u001b[K     |███████████████████████████     | 1.6MB 8.1MB/s eta 0:00:01\r\u001b[K     |███████████████████████████▏    | 1.6MB 8.1MB/s eta 0:00:01\r\u001b[K     |███████████████████████████▎    | 1.6MB 8.1MB/s eta 0:00:01\r\u001b[K     |███████████████████████████▌    | 1.6MB 8.1MB/s eta 0:00:01\r\u001b[K     |███████████████████████████▋    | 1.6MB 8.1MB/s eta 0:00:01\r\u001b[K     |███████████████████████████▉    | 1.6MB 8.1MB/s eta 0:00:01\r\u001b[K     |████████████████████████████    | 1.7MB 8.1MB/s eta 0:00:01\r\u001b[K     |████████████████████████████▏   | 1.7MB 8.1MB/s eta 0:00:01\r\u001b[K     |████████████████████████████▎   | 1.7MB 8.1MB/s eta 0:00:01\r\u001b[K     |████████████████████████████▌   | 1.7MB 8.1MB/s eta 0:00:01\r\u001b[K     |████████████████████████████▊   | 1.7MB 8.1MB/s eta 0:00:01\r\u001b[K     |████████████████████████████▉   | 1.7MB 8.1MB/s eta 0:00:01\r\u001b[K     |█████████████████████████████   | 1.7MB 8.1MB/s eta 0:00:01\r\u001b[K     |█████████████████████████████▏  | 1.7MB 8.1MB/s eta 0:00:01\r\u001b[K     |█████████████████████████████▍  | 1.7MB 8.1MB/s eta 0:00:01\r\u001b[K     |█████████████████████████████▌  | 1.8MB 8.1MB/s eta 0:00:01\r\u001b[K     |█████████████████████████████▊  | 1.8MB 8.1MB/s eta 0:00:01\r\u001b[K     |█████████████████████████████▉  | 1.8MB 8.1MB/s eta 0:00:01\r\u001b[K     |██████████████████████████████  | 1.8MB 8.1MB/s eta 0:00:01\r\u001b[K     |██████████████████████████████▎ | 1.8MB 8.1MB/s eta 0:00:01\r\u001b[K     |██████████████████████████████▍ | 1.8MB 8.1MB/s eta 0:00:01\r\u001b[K     |██████████████████████████████▋ | 1.8MB 8.1MB/s eta 0:00:01\r\u001b[K     |██████████████████████████████▊ | 1.8MB 8.1MB/s eta 0:00:01\r\u001b[K     |███████████████████████████████ | 1.8MB 8.1MB/s eta 0:00:01\r\u001b[K     |███████████████████████████████ | 1.8MB 8.1MB/s eta 0:00:01\r\u001b[K     |███████████████████████████████▎| 1.9MB 8.1MB/s eta 0:00:01\r\u001b[K     |███████████████████████████████▍| 1.9MB 8.1MB/s eta 0:00:01\r\u001b[K     |███████████████████████████████▋| 1.9MB 8.1MB/s eta 0:00:01\r\u001b[K     |███████████████████████████████▉| 1.9MB 8.1MB/s eta 0:00:01\r\u001b[K     |████████████████████████████████| 1.9MB 8.1MB/s eta 0:00:01\r\u001b[K     |████████████████████████████████| 1.9MB 8.1MB/s \n",
            "\u001b[?25hRequirement already satisfied: filelock in /usr/local/lib/python3.7/dist-packages (from transformers) (3.0.12)\n",
            "Requirement already satisfied: importlib-metadata; python_version < \"3.8\" in /usr/local/lib/python3.7/dist-packages (from transformers) (3.7.0)\n",
            "Requirement already satisfied: packaging in /usr/local/lib/python3.7/dist-packages (from transformers) (20.9)\n",
            "Collecting tokenizers<0.11,>=0.10.1\n",
            "\u001b[?25l  Downloading https://files.pythonhosted.org/packages/71/23/2ddc317b2121117bf34dd00f5b0de194158f2a44ee2bf5e47c7166878a97/tokenizers-0.10.1-cp37-cp37m-manylinux2010_x86_64.whl (3.2MB)\n",
            "\u001b[K     |████████████████████████████████| 3.2MB 37.3MB/s \n",
            "\u001b[?25hRequirement already satisfied: tqdm>=4.27 in /usr/local/lib/python3.7/dist-packages (from transformers) (4.41.1)\n",
            "Requirement already satisfied: requests in /usr/local/lib/python3.7/dist-packages (from transformers) (2.23.0)\n",
            "Collecting sacremoses\n",
            "\u001b[?25l  Downloading https://files.pythonhosted.org/packages/7d/34/09d19aff26edcc8eb2a01bed8e98f13a1537005d31e95233fd48216eed10/sacremoses-0.0.43.tar.gz (883kB)\n",
            "\u001b[K     |████████████████████████████████| 890kB 39.1MB/s \n",
            "\u001b[?25hRequirement already satisfied: numpy>=1.17 in /usr/local/lib/python3.7/dist-packages (from transformers) (1.19.5)\n",
            "Requirement already satisfied: regex!=2019.12.17 in /usr/local/lib/python3.7/dist-packages (from transformers) (2019.12.20)\n",
            "Requirement already satisfied: zipp>=0.5 in /usr/local/lib/python3.7/dist-packages (from importlib-metadata; python_version < \"3.8\"->transformers) (3.4.0)\n",
            "Requirement already satisfied: typing-extensions>=3.6.4; python_version < \"3.8\" in /usr/local/lib/python3.7/dist-packages (from importlib-metadata; python_version < \"3.8\"->transformers) (3.7.4.3)\n",
            "Requirement already satisfied: pyparsing>=2.0.2 in /usr/local/lib/python3.7/dist-packages (from packaging->transformers) (2.4.7)\n",
            "Requirement already satisfied: certifi>=2017.4.17 in /usr/local/lib/python3.7/dist-packages (from requests->transformers) (2020.12.5)\n",
            "Requirement already satisfied: chardet<4,>=3.0.2 in /usr/local/lib/python3.7/dist-packages (from requests->transformers) (3.0.4)\n",
            "Requirement already satisfied: urllib3!=1.25.0,!=1.25.1,<1.26,>=1.21.1 in /usr/local/lib/python3.7/dist-packages (from requests->transformers) (1.24.3)\n",
            "Requirement already satisfied: idna<3,>=2.5 in /usr/local/lib/python3.7/dist-packages (from requests->transformers) (2.10)\n",
            "Requirement already satisfied: six in /usr/local/lib/python3.7/dist-packages (from sacremoses->transformers) (1.15.0)\n",
            "Requirement already satisfied: click in /usr/local/lib/python3.7/dist-packages (from sacremoses->transformers) (7.1.2)\n",
            "Requirement already satisfied: joblib in /usr/local/lib/python3.7/dist-packages (from sacremoses->transformers) (1.0.1)\n",
            "Building wheels for collected packages: sacremoses\n",
            "  Building wheel for sacremoses (setup.py) ... \u001b[?25l\u001b[?25hdone\n",
            "  Created wheel for sacremoses: filename=sacremoses-0.0.43-cp37-none-any.whl size=893262 sha256=32b4da555d7d2e797e91ff99ed713ae5247a19fd8c4523ac378d3856e6e586e9\n",
            "  Stored in directory: /root/.cache/pip/wheels/29/3c/fd/7ce5c3f0666dab31a50123635e6fb5e19ceb42ce38d4e58f45\n",
            "Successfully built sacremoses\n",
            "Installing collected packages: tokenizers, sacremoses, transformers\n",
            "Successfully installed sacremoses-0.0.43 tokenizers-0.10.1 transformers-4.3.3\n"
          ],
          "name": "stdout"
        }
      ]
    },
    {
      "cell_type": "code",
      "metadata": {
        "execution": {
          "iopub.execute_input": "2021-03-01T12:32:25.261043Z",
          "iopub.status.busy": "2021-03-01T12:32:25.260265Z",
          "iopub.status.idle": "2021-03-01T12:32:26.555394Z",
          "shell.execute_reply": "2021-03-01T12:32:26.554567Z"
        },
        "id": "UxKFUPgdCkoo",
        "papermill": {
          "duration": 1.314718,
          "end_time": "2021-03-01T12:32:26.555603",
          "exception": false,
          "start_time": "2021-03-01T12:32:25.240885",
          "status": "completed"
        },
        "scrolled": true,
        "tags": [],
        "colab": {
          "base_uri": "https://localhost:8080/"
        },
        "outputId": "2050bc60-2e70-4fbf-850a-80c4940e6557"
      },
      "source": [
        "!nvidia-smi"
      ],
      "execution_count": null,
      "outputs": [
        {
          "output_type": "stream",
          "text": [
            "Tue Mar  2 07:58:19 2021       \n",
            "+-----------------------------------------------------------------------------+\n",
            "| NVIDIA-SMI 460.39       Driver Version: 460.32.03    CUDA Version: 11.2     |\n",
            "|-------------------------------+----------------------+----------------------+\n",
            "| GPU  Name        Persistence-M| Bus-Id        Disp.A | Volatile Uncorr. ECC |\n",
            "| Fan  Temp  Perf  Pwr:Usage/Cap|         Memory-Usage | GPU-Util  Compute M. |\n",
            "|                               |                      |               MIG M. |\n",
            "|===============================+======================+======================|\n",
            "|   0  Tesla P100-PCIE...  Off  | 00000000:00:04.0 Off |                    0 |\n",
            "| N/A   46C    P0    27W / 250W |      0MiB / 16280MiB |      0%      Default |\n",
            "|                               |                      |                  N/A |\n",
            "+-------------------------------+----------------------+----------------------+\n",
            "                                                                               \n",
            "+-----------------------------------------------------------------------------+\n",
            "| Processes:                                                                  |\n",
            "|  GPU   GI   CI        PID   Type   Process name                  GPU Memory |\n",
            "|        ID   ID                                                   Usage      |\n",
            "|=============================================================================|\n",
            "|  No running processes found                                                 |\n",
            "+-----------------------------------------------------------------------------+\n"
          ],
          "name": "stdout"
        }
      ]
    },
    {
      "cell_type": "code",
      "metadata": {
        "execution": {
          "iopub.execute_input": "2021-03-01T12:32:26.594318Z",
          "iopub.status.busy": "2021-03-01T12:32:26.593466Z",
          "iopub.status.idle": "2021-03-01T12:32:36.654449Z",
          "shell.execute_reply": "2021-03-01T12:32:36.653519Z"
        },
        "id": "PS6Heny2Ckou",
        "papermill": {
          "duration": 10.083445,
          "end_time": "2021-03-01T12:32:36.654603",
          "exception": false,
          "start_time": "2021-03-01T12:32:26.571158",
          "status": "completed"
        },
        "tags": [],
        "colab": {
          "base_uri": "https://localhost:8080/",
          "height": 66,
          "referenced_widgets": [
            "6b1f656eb315461c8f004162ce077d4e",
            "cf1d8f4514a44a8dbb18c79667d47664",
            "8a29df51fa3040c98f9d7c4d1253a139",
            "17ea322be78042fb91fd461512254212",
            "61fc5d19195b4abd878f17560b3bf789",
            "05ed05de947547d79a091b16f1276e76",
            "f8f8cebcd19e46caaf528cbe7262bdfd",
            "ff7c4134c4b1499a9970c450ddaef01e"
          ]
        },
        "outputId": "0891cb4f-e056-4ab3-dfe8-0b19c41c02d2"
      },
      "source": [
        "'''IMPORTING NECESSARY MODULES\n",
        "'''\n",
        "import numpy as np\n",
        "import torch\n",
        "from torch.utils.data import DataLoader, Dataset, TensorDataset\n",
        "import sys\n",
        "import torch.nn as nn\n",
        "import torch.nn.functional as F\n",
        "from torch.utils import data\n",
        "\n",
        "import torch.optim as optim\n",
        "from torch.utils.tensorboard import SummaryWriter\n",
        "\n",
        "sys.path.append('/content/gdrive/MyDrive/Kaggle/Hateful meme detection local files')\n",
        "\n",
        "from dataloader import mydataset\n",
        "from trainer_ResNet import train, test_classify\n",
        "from resnet_models import ResNet,Bottleneck,resnext101_32x8d\n",
        "from Load_model import load\n",
        "from plot_curves import plot_loss, plot_acc"
      ],
      "execution_count": null,
      "outputs": [
        {
          "output_type": "display_data",
          "data": {
            "application/vnd.jupyter.widget-view+json": {
              "model_id": "6b1f656eb315461c8f004162ce077d4e",
              "version_minor": 0,
              "version_major": 2
            },
            "text/plain": [
              "HBox(children=(FloatProgress(value=0.0, description='Downloading', max=231508.0, style=ProgressStyle(descripti…"
            ]
          },
          "metadata": {
            "tags": []
          }
        },
        {
          "output_type": "stream",
          "text": [
            "\n"
          ],
          "name": "stdout"
        }
      ]
    },
    {
      "cell_type": "code",
      "metadata": {
        "execution": {
          "iopub.execute_input": "2021-03-01T12:32:36.696139Z",
          "iopub.status.busy": "2021-03-01T12:32:36.695447Z",
          "iopub.status.idle": "2021-03-01T12:32:36.698800Z",
          "shell.execute_reply": "2021-03-01T12:32:36.699342Z"
        },
        "id": "tkTFK5d-Ckov",
        "papermill": {
          "duration": 0.027025,
          "end_time": "2021-03-01T12:32:36.699510",
          "exception": false,
          "start_time": "2021-03-01T12:32:36.672485",
          "status": "completed"
        },
        "tags": [],
        "colab": {
          "base_uri": "https://localhost:8080/"
        },
        "outputId": "8936c998-d1fd-4a68-dc7d-be5a0346612d"
      },
      "source": [
        "device = torch.device('cuda:0' if torch.cuda.is_available() else 'cpu')\n",
        "print(device)"
      ],
      "execution_count": null,
      "outputs": [
        {
          "output_type": "stream",
          "text": [
            "cuda:0\n"
          ],
          "name": "stdout"
        }
      ]
    },
    {
      "cell_type": "markdown",
      "metadata": {
        "id": "-i7pBbm_Ckow",
        "papermill": {
          "duration": 0.014876,
          "end_time": "2021-03-01T12:32:36.729644",
          "exception": false,
          "start_time": "2021-03-01T12:32:36.714768",
          "status": "completed"
        },
        "tags": []
      },
      "source": [
        "**Dataloading Scheme**"
      ]
    },
    {
      "cell_type": "code",
      "metadata": {
        "execution": {
          "iopub.execute_input": "2021-03-01T12:32:36.765634Z",
          "iopub.status.busy": "2021-03-01T12:32:36.764631Z",
          "iopub.status.idle": "2021-03-01T12:32:36.767856Z",
          "shell.execute_reply": "2021-03-01T12:32:36.767311Z"
        },
        "id": "iBg3I5zsCkox",
        "papermill": {
          "duration": 0.023099,
          "end_time": "2021-03-01T12:32:36.767986",
          "exception": false,
          "start_time": "2021-03-01T12:32:36.744887",
          "status": "completed"
        },
        "tags": []
      },
      "source": [
        "trainlist = r'/content/gdrive/MyDrive/Kaggle/Facebook Hateful Meme Dataset/data/train.jsonl'\n",
        "validlist = r'/content/gdrive/MyDrive/Kaggle/Facebook Hateful Meme Dataset/data/dev.jsonl'"
      ],
      "execution_count": null,
      "outputs": []
    },
    {
      "cell_type": "markdown",
      "metadata": {
        "id": "qwB9AnyzIna5"
      },
      "source": [
        ""
      ]
    },
    {
      "cell_type": "code",
      "metadata": {
        "id": "PN9g2Wh4Ckoy",
        "papermill": {
          "duration": 0.015754,
          "end_time": "2021-03-01T12:32:36.799565",
          "exception": false,
          "start_time": "2021-03-01T12:32:36.783811",
          "status": "completed"
        },
        "tags": []
      },
      "source": [
        ""
      ],
      "execution_count": null,
      "outputs": []
    },
    {
      "cell_type": "code",
      "metadata": {
        "execution": {
          "iopub.execute_input": "2021-03-01T12:32:36.836975Z",
          "iopub.status.busy": "2021-03-01T12:32:36.836314Z",
          "iopub.status.idle": "2021-03-01T12:32:43.478012Z",
          "shell.execute_reply": "2021-03-01T12:32:43.477311Z"
        },
        "id": "IrqSFkjdCkoz",
        "papermill": {
          "duration": 6.663258,
          "end_time": "2021-03-01T12:32:43.478175",
          "exception": false,
          "start_time": "2021-03-01T12:32:36.814917",
          "status": "completed"
        },
        "tags": [],
        "colab": {
          "base_uri": "https://localhost:8080/"
        },
        "outputId": "b70f227f-b9b8-4d8e-9144-521b9027a88d"
      },
      "source": [
        "'''Train Dataloader''' \n",
        "train_dataset = mydataset(trainlist, name='train')          \n",
        "train_dataloader = data.DataLoader(train_dataset, shuffle= True, batch_size = 28, num_workers=16,pin_memory=True)\n",
        "\n",
        "\n",
        "'''Validation Dataloader''' \n",
        "validation_dataset = mydataset(validlist, name='valid')         \n",
        "validation_dataloader = data.DataLoader(validation_dataset, shuffle=False, batch_size = 8, num_workers=16,pin_memory=True)"
      ],
      "execution_count": null,
      "outputs": [
        {
          "output_type": "stream",
          "text": [
            "/usr/local/lib/python3.7/dist-packages/transformers/tokenization_utils_base.py:2155: FutureWarning: The `pad_to_max_length` argument is deprecated and will be removed in a future version, use `padding=True` or `padding='longest'` to pad to the longest sequence in the batch, or use `padding='max_length'` to pad to a max length. In this case, you can give a specific length with `max_length` (e.g. `max_length=45`) or leave max_length to None to pad to the maximal input size of the model (e.g. 512 for Bert).\n",
            "  FutureWarning,\n"
          ],
          "name": "stderr"
        }
      ]
    },
    {
      "cell_type": "markdown",
      "metadata": {
        "id": "KYvArnlbCko0",
        "papermill": {
          "duration": 0.02064,
          "end_time": "2021-03-01T12:32:43.518594",
          "exception": false,
          "start_time": "2021-03-01T12:32:43.497954",
          "status": "completed"
        },
        "tags": []
      },
      "source": [
        "**Model Definition**\n",
        "\n",
        "Train Resnet50/ ResNext101"
      ]
    },
    {
      "cell_type": "code",
      "metadata": {
        "execution": {
          "iopub.execute_input": "2021-03-01T12:32:43.560598Z",
          "iopub.status.busy": "2021-03-01T12:32:43.559946Z",
          "iopub.status.idle": "2021-03-01T12:32:43.564344Z",
          "shell.execute_reply": "2021-03-01T12:32:43.563681Z"
        },
        "id": "XYbW-9FOCko0",
        "papermill": {
          "duration": 0.026538,
          "end_time": "2021-03-01T12:32:43.564520",
          "exception": false,
          "start_time": "2021-03-01T12:32:43.537982",
          "status": "completed"
        },
        "tags": []
      },
      "source": [
        "modelname = 'ResneXt101_32x8d'\n",
        "modelpath = '/content/'+modelname"
      ],
      "execution_count": null,
      "outputs": []
    },
    {
      "cell_type": "code",
      "metadata": {
        "execution": {
          "iopub.execute_input": "2021-03-01T12:32:43.604873Z",
          "iopub.status.busy": "2021-03-01T12:32:43.604239Z",
          "iopub.status.idle": "2021-03-01T12:32:43.610637Z",
          "shell.execute_reply": "2021-03-01T12:32:43.610133Z"
        },
        "papermill": {
          "duration": 0.029038,
          "end_time": "2021-03-01T12:32:43.610787",
          "exception": false,
          "start_time": "2021-03-01T12:32:43.581749",
          "status": "completed"
        },
        "tags": [],
        "colab": {
          "base_uri": "https://localhost:8080/"
        },
        "id": "2ND_NKbeFJxX",
        "outputId": "2746a114-2639-4805-8e71-3065eb6dac26"
      },
      "source": [
        "torch.cuda.is_available()"
      ],
      "execution_count": null,
      "outputs": [
        {
          "output_type": "execute_result",
          "data": {
            "text/plain": [
              "True"
            ]
          },
          "metadata": {
            "tags": []
          },
          "execution_count": 19
        }
      ]
    },
    {
      "cell_type": "code",
      "metadata": {
        "execution": {
          "iopub.execute_input": "2021-03-01T12:32:43.658449Z",
          "iopub.status.busy": "2021-03-01T12:32:43.657590Z",
          "iopub.status.idle": "2021-03-01T12:33:00.135570Z",
          "shell.execute_reply": "2021-03-01T12:33:00.134992Z"
        },
        "id": "8gFdj_eCCko1",
        "papermill": {
          "duration": 16.507138,
          "end_time": "2021-03-01T12:33:00.135720",
          "exception": false,
          "start_time": "2021-03-01T12:32:43.628582",
          "status": "completed"
        },
        "tags": [],
        "colab": {
          "base_uri": "https://localhost:8080/",
          "height": 102,
          "referenced_widgets": [
            "4a125e102d5b4d93bbd7d6b1fcd942d7",
            "dc50b3d3e6344bc68a8c078cac7f8269",
            "8eb5fce7fe9a4a8fa0c40ee52ee8a2dd",
            "b37a166a7184482dbafde12e73fab8d1",
            "a67b2e76570c4ea995abb466e2587a8f",
            "ca1e3ec02e514f5d84943882a6b47366",
            "9da18503c8514ef197af95a7b7bcd4aa",
            "52de437337b64f99be11d7884bf12ead"
          ]
        },
        "outputId": "a299f33c-831d-46be-918f-7168612f58f1"
      },
      "source": [
        "# model = ResNet(Bottleneck, [3, 4, 6, 3], num_classes = 2)\n",
        "\n",
        "\n",
        "'''\n",
        "Pretrained ResNeXt101_32x8d\n",
        "'''\n",
        "model = resnext101_32x8d(pretrained = True)\n",
        "\n",
        "model = nn.DataParallel(model).to(device)\n",
        "\n",
        "\n",
        "\n",
        "# '''\n",
        "# Load saved model from checkpoint\n",
        "# '''\n",
        "# model, optimizer, lr_scheduler, train_loss, v_loss, v_acc, epoch = load(modelpath, model, optimizer, lr_scheduler)"
      ],
      "execution_count": null,
      "outputs": [
        {
          "output_type": "stream",
          "text": [
            "Downloading: \"https://download.pytorch.org/models/resnext101_32x8d-8ba56ff5.pth\" to /root/.cache/torch/hub/checkpoints/resnext101_32x8d-8ba56ff5.pth\n"
          ],
          "name": "stderr"
        },
        {
          "output_type": "display_data",
          "data": {
            "application/vnd.jupyter.widget-view+json": {
              "model_id": "4a125e102d5b4d93bbd7d6b1fcd942d7",
              "version_minor": 0,
              "version_major": 2
            },
            "text/plain": [
              "HBox(children=(FloatProgress(value=0.0, max=356082095.0), HTML(value='')))"
            ]
          },
          "metadata": {
            "tags": []
          }
        },
        {
          "output_type": "stream",
          "text": [
            "\n"
          ],
          "name": "stdout"
        }
      ]
    },
    {
      "cell_type": "code",
      "metadata": {
        "_kg_hide-output": false,
        "execution": {
          "iopub.execute_input": "2021-03-01T12:33:00.181632Z",
          "iopub.status.busy": "2021-03-01T12:33:00.180694Z",
          "iopub.status.idle": "2021-03-01T12:33:00.200982Z",
          "shell.execute_reply": "2021-03-01T12:33:00.201506Z"
        },
        "id": "UmD_vszbCko2",
        "papermill": {
          "duration": 0.046157,
          "end_time": "2021-03-01T12:33:00.201671",
          "exception": false,
          "start_time": "2021-03-01T12:33:00.155514",
          "status": "completed"
        },
        "tags": [],
        "colab": {
          "base_uri": "https://localhost:8080/"
        },
        "outputId": "3274aeca-3672-49c1-e7da-f1cb72d54bb3"
      },
      "source": [
        "'''\n",
        "Transfer Learning\n",
        "'''\n",
        "\n",
        "# for param in model.module.parameters():\n",
        "#     param.requires_grad = False\n",
        "\n",
        "fc_inputs = model.module.fc.in_features\n",
        "\n",
        "model.module.fc = nn.Sequential(\n",
        "    nn.Linear(fc_inputs, 2)\n",
        "#     nn.BatchNorm1d(4096),\n",
        "#     nn.ReLU(),\n",
        "#     nn.Linear(768, 2)\n",
        "    \n",
        ")\n",
        "\n",
        "model.to(device)"
      ],
      "execution_count": null,
      "outputs": [
        {
          "output_type": "execute_result",
          "data": {
            "text/plain": [
              "DataParallel(\n",
              "  (module): ResNet(\n",
              "    (conv1): Conv2d(3, 64, kernel_size=(7, 7), stride=(2, 2), padding=(3, 3), bias=False)\n",
              "    (bn1): BatchNorm2d(64, eps=1e-05, momentum=0.1, affine=True, track_running_stats=True)\n",
              "    (relu): ReLU(inplace=True)\n",
              "    (maxpool): MaxPool2d(kernel_size=3, stride=2, padding=1, dilation=1, ceil_mode=False)\n",
              "    (layer1): Sequential(\n",
              "      (0): Bottleneck(\n",
              "        (conv1): Conv2d(64, 256, kernel_size=(1, 1), stride=(1, 1), bias=False)\n",
              "        (bn1): BatchNorm2d(256, eps=1e-05, momentum=0.1, affine=True, track_running_stats=True)\n",
              "        (conv2): Conv2d(256, 256, kernel_size=(3, 3), stride=(1, 1), padding=(1, 1), groups=32, bias=False)\n",
              "        (bn2): BatchNorm2d(256, eps=1e-05, momentum=0.1, affine=True, track_running_stats=True)\n",
              "        (conv3): Conv2d(256, 256, kernel_size=(1, 1), stride=(1, 1), bias=False)\n",
              "        (bn3): BatchNorm2d(256, eps=1e-05, momentum=0.1, affine=True, track_running_stats=True)\n",
              "        (relu): ReLU(inplace=True)\n",
              "        (downsample): Sequential(\n",
              "          (0): Conv2d(64, 256, kernel_size=(1, 1), stride=(1, 1), bias=False)\n",
              "          (1): BatchNorm2d(256, eps=1e-05, momentum=0.1, affine=True, track_running_stats=True)\n",
              "        )\n",
              "      )\n",
              "      (1): Bottleneck(\n",
              "        (conv1): Conv2d(256, 256, kernel_size=(1, 1), stride=(1, 1), bias=False)\n",
              "        (bn1): BatchNorm2d(256, eps=1e-05, momentum=0.1, affine=True, track_running_stats=True)\n",
              "        (conv2): Conv2d(256, 256, kernel_size=(3, 3), stride=(1, 1), padding=(1, 1), groups=32, bias=False)\n",
              "        (bn2): BatchNorm2d(256, eps=1e-05, momentum=0.1, affine=True, track_running_stats=True)\n",
              "        (conv3): Conv2d(256, 256, kernel_size=(1, 1), stride=(1, 1), bias=False)\n",
              "        (bn3): BatchNorm2d(256, eps=1e-05, momentum=0.1, affine=True, track_running_stats=True)\n",
              "        (relu): ReLU(inplace=True)\n",
              "      )\n",
              "      (2): Bottleneck(\n",
              "        (conv1): Conv2d(256, 256, kernel_size=(1, 1), stride=(1, 1), bias=False)\n",
              "        (bn1): BatchNorm2d(256, eps=1e-05, momentum=0.1, affine=True, track_running_stats=True)\n",
              "        (conv2): Conv2d(256, 256, kernel_size=(3, 3), stride=(1, 1), padding=(1, 1), groups=32, bias=False)\n",
              "        (bn2): BatchNorm2d(256, eps=1e-05, momentum=0.1, affine=True, track_running_stats=True)\n",
              "        (conv3): Conv2d(256, 256, kernel_size=(1, 1), stride=(1, 1), bias=False)\n",
              "        (bn3): BatchNorm2d(256, eps=1e-05, momentum=0.1, affine=True, track_running_stats=True)\n",
              "        (relu): ReLU(inplace=True)\n",
              "      )\n",
              "    )\n",
              "    (layer2): Sequential(\n",
              "      (0): Bottleneck(\n",
              "        (conv1): Conv2d(256, 512, kernel_size=(1, 1), stride=(1, 1), bias=False)\n",
              "        (bn1): BatchNorm2d(512, eps=1e-05, momentum=0.1, affine=True, track_running_stats=True)\n",
              "        (conv2): Conv2d(512, 512, kernel_size=(3, 3), stride=(2, 2), padding=(1, 1), groups=32, bias=False)\n",
              "        (bn2): BatchNorm2d(512, eps=1e-05, momentum=0.1, affine=True, track_running_stats=True)\n",
              "        (conv3): Conv2d(512, 512, kernel_size=(1, 1), stride=(1, 1), bias=False)\n",
              "        (bn3): BatchNorm2d(512, eps=1e-05, momentum=0.1, affine=True, track_running_stats=True)\n",
              "        (relu): ReLU(inplace=True)\n",
              "        (downsample): Sequential(\n",
              "          (0): Conv2d(256, 512, kernel_size=(1, 1), stride=(2, 2), bias=False)\n",
              "          (1): BatchNorm2d(512, eps=1e-05, momentum=0.1, affine=True, track_running_stats=True)\n",
              "        )\n",
              "      )\n",
              "      (1): Bottleneck(\n",
              "        (conv1): Conv2d(512, 512, kernel_size=(1, 1), stride=(1, 1), bias=False)\n",
              "        (bn1): BatchNorm2d(512, eps=1e-05, momentum=0.1, affine=True, track_running_stats=True)\n",
              "        (conv2): Conv2d(512, 512, kernel_size=(3, 3), stride=(1, 1), padding=(1, 1), groups=32, bias=False)\n",
              "        (bn2): BatchNorm2d(512, eps=1e-05, momentum=0.1, affine=True, track_running_stats=True)\n",
              "        (conv3): Conv2d(512, 512, kernel_size=(1, 1), stride=(1, 1), bias=False)\n",
              "        (bn3): BatchNorm2d(512, eps=1e-05, momentum=0.1, affine=True, track_running_stats=True)\n",
              "        (relu): ReLU(inplace=True)\n",
              "      )\n",
              "      (2): Bottleneck(\n",
              "        (conv1): Conv2d(512, 512, kernel_size=(1, 1), stride=(1, 1), bias=False)\n",
              "        (bn1): BatchNorm2d(512, eps=1e-05, momentum=0.1, affine=True, track_running_stats=True)\n",
              "        (conv2): Conv2d(512, 512, kernel_size=(3, 3), stride=(1, 1), padding=(1, 1), groups=32, bias=False)\n",
              "        (bn2): BatchNorm2d(512, eps=1e-05, momentum=0.1, affine=True, track_running_stats=True)\n",
              "        (conv3): Conv2d(512, 512, kernel_size=(1, 1), stride=(1, 1), bias=False)\n",
              "        (bn3): BatchNorm2d(512, eps=1e-05, momentum=0.1, affine=True, track_running_stats=True)\n",
              "        (relu): ReLU(inplace=True)\n",
              "      )\n",
              "      (3): Bottleneck(\n",
              "        (conv1): Conv2d(512, 512, kernel_size=(1, 1), stride=(1, 1), bias=False)\n",
              "        (bn1): BatchNorm2d(512, eps=1e-05, momentum=0.1, affine=True, track_running_stats=True)\n",
              "        (conv2): Conv2d(512, 512, kernel_size=(3, 3), stride=(1, 1), padding=(1, 1), groups=32, bias=False)\n",
              "        (bn2): BatchNorm2d(512, eps=1e-05, momentum=0.1, affine=True, track_running_stats=True)\n",
              "        (conv3): Conv2d(512, 512, kernel_size=(1, 1), stride=(1, 1), bias=False)\n",
              "        (bn3): BatchNorm2d(512, eps=1e-05, momentum=0.1, affine=True, track_running_stats=True)\n",
              "        (relu): ReLU(inplace=True)\n",
              "      )\n",
              "    )\n",
              "    (layer3): Sequential(\n",
              "      (0): Bottleneck(\n",
              "        (conv1): Conv2d(512, 1024, kernel_size=(1, 1), stride=(1, 1), bias=False)\n",
              "        (bn1): BatchNorm2d(1024, eps=1e-05, momentum=0.1, affine=True, track_running_stats=True)\n",
              "        (conv2): Conv2d(1024, 1024, kernel_size=(3, 3), stride=(2, 2), padding=(1, 1), groups=32, bias=False)\n",
              "        (bn2): BatchNorm2d(1024, eps=1e-05, momentum=0.1, affine=True, track_running_stats=True)\n",
              "        (conv3): Conv2d(1024, 1024, kernel_size=(1, 1), stride=(1, 1), bias=False)\n",
              "        (bn3): BatchNorm2d(1024, eps=1e-05, momentum=0.1, affine=True, track_running_stats=True)\n",
              "        (relu): ReLU(inplace=True)\n",
              "        (downsample): Sequential(\n",
              "          (0): Conv2d(512, 1024, kernel_size=(1, 1), stride=(2, 2), bias=False)\n",
              "          (1): BatchNorm2d(1024, eps=1e-05, momentum=0.1, affine=True, track_running_stats=True)\n",
              "        )\n",
              "      )\n",
              "      (1): Bottleneck(\n",
              "        (conv1): Conv2d(1024, 1024, kernel_size=(1, 1), stride=(1, 1), bias=False)\n",
              "        (bn1): BatchNorm2d(1024, eps=1e-05, momentum=0.1, affine=True, track_running_stats=True)\n",
              "        (conv2): Conv2d(1024, 1024, kernel_size=(3, 3), stride=(1, 1), padding=(1, 1), groups=32, bias=False)\n",
              "        (bn2): BatchNorm2d(1024, eps=1e-05, momentum=0.1, affine=True, track_running_stats=True)\n",
              "        (conv3): Conv2d(1024, 1024, kernel_size=(1, 1), stride=(1, 1), bias=False)\n",
              "        (bn3): BatchNorm2d(1024, eps=1e-05, momentum=0.1, affine=True, track_running_stats=True)\n",
              "        (relu): ReLU(inplace=True)\n",
              "      )\n",
              "      (2): Bottleneck(\n",
              "        (conv1): Conv2d(1024, 1024, kernel_size=(1, 1), stride=(1, 1), bias=False)\n",
              "        (bn1): BatchNorm2d(1024, eps=1e-05, momentum=0.1, affine=True, track_running_stats=True)\n",
              "        (conv2): Conv2d(1024, 1024, kernel_size=(3, 3), stride=(1, 1), padding=(1, 1), groups=32, bias=False)\n",
              "        (bn2): BatchNorm2d(1024, eps=1e-05, momentum=0.1, affine=True, track_running_stats=True)\n",
              "        (conv3): Conv2d(1024, 1024, kernel_size=(1, 1), stride=(1, 1), bias=False)\n",
              "        (bn3): BatchNorm2d(1024, eps=1e-05, momentum=0.1, affine=True, track_running_stats=True)\n",
              "        (relu): ReLU(inplace=True)\n",
              "      )\n",
              "      (3): Bottleneck(\n",
              "        (conv1): Conv2d(1024, 1024, kernel_size=(1, 1), stride=(1, 1), bias=False)\n",
              "        (bn1): BatchNorm2d(1024, eps=1e-05, momentum=0.1, affine=True, track_running_stats=True)\n",
              "        (conv2): Conv2d(1024, 1024, kernel_size=(3, 3), stride=(1, 1), padding=(1, 1), groups=32, bias=False)\n",
              "        (bn2): BatchNorm2d(1024, eps=1e-05, momentum=0.1, affine=True, track_running_stats=True)\n",
              "        (conv3): Conv2d(1024, 1024, kernel_size=(1, 1), stride=(1, 1), bias=False)\n",
              "        (bn3): BatchNorm2d(1024, eps=1e-05, momentum=0.1, affine=True, track_running_stats=True)\n",
              "        (relu): ReLU(inplace=True)\n",
              "      )\n",
              "      (4): Bottleneck(\n",
              "        (conv1): Conv2d(1024, 1024, kernel_size=(1, 1), stride=(1, 1), bias=False)\n",
              "        (bn1): BatchNorm2d(1024, eps=1e-05, momentum=0.1, affine=True, track_running_stats=True)\n",
              "        (conv2): Conv2d(1024, 1024, kernel_size=(3, 3), stride=(1, 1), padding=(1, 1), groups=32, bias=False)\n",
              "        (bn2): BatchNorm2d(1024, eps=1e-05, momentum=0.1, affine=True, track_running_stats=True)\n",
              "        (conv3): Conv2d(1024, 1024, kernel_size=(1, 1), stride=(1, 1), bias=False)\n",
              "        (bn3): BatchNorm2d(1024, eps=1e-05, momentum=0.1, affine=True, track_running_stats=True)\n",
              "        (relu): ReLU(inplace=True)\n",
              "      )\n",
              "      (5): Bottleneck(\n",
              "        (conv1): Conv2d(1024, 1024, kernel_size=(1, 1), stride=(1, 1), bias=False)\n",
              "        (bn1): BatchNorm2d(1024, eps=1e-05, momentum=0.1, affine=True, track_running_stats=True)\n",
              "        (conv2): Conv2d(1024, 1024, kernel_size=(3, 3), stride=(1, 1), padding=(1, 1), groups=32, bias=False)\n",
              "        (bn2): BatchNorm2d(1024, eps=1e-05, momentum=0.1, affine=True, track_running_stats=True)\n",
              "        (conv3): Conv2d(1024, 1024, kernel_size=(1, 1), stride=(1, 1), bias=False)\n",
              "        (bn3): BatchNorm2d(1024, eps=1e-05, momentum=0.1, affine=True, track_running_stats=True)\n",
              "        (relu): ReLU(inplace=True)\n",
              "      )\n",
              "      (6): Bottleneck(\n",
              "        (conv1): Conv2d(1024, 1024, kernel_size=(1, 1), stride=(1, 1), bias=False)\n",
              "        (bn1): BatchNorm2d(1024, eps=1e-05, momentum=0.1, affine=True, track_running_stats=True)\n",
              "        (conv2): Conv2d(1024, 1024, kernel_size=(3, 3), stride=(1, 1), padding=(1, 1), groups=32, bias=False)\n",
              "        (bn2): BatchNorm2d(1024, eps=1e-05, momentum=0.1, affine=True, track_running_stats=True)\n",
              "        (conv3): Conv2d(1024, 1024, kernel_size=(1, 1), stride=(1, 1), bias=False)\n",
              "        (bn3): BatchNorm2d(1024, eps=1e-05, momentum=0.1, affine=True, track_running_stats=True)\n",
              "        (relu): ReLU(inplace=True)\n",
              "      )\n",
              "      (7): Bottleneck(\n",
              "        (conv1): Conv2d(1024, 1024, kernel_size=(1, 1), stride=(1, 1), bias=False)\n",
              "        (bn1): BatchNorm2d(1024, eps=1e-05, momentum=0.1, affine=True, track_running_stats=True)\n",
              "        (conv2): Conv2d(1024, 1024, kernel_size=(3, 3), stride=(1, 1), padding=(1, 1), groups=32, bias=False)\n",
              "        (bn2): BatchNorm2d(1024, eps=1e-05, momentum=0.1, affine=True, track_running_stats=True)\n",
              "        (conv3): Conv2d(1024, 1024, kernel_size=(1, 1), stride=(1, 1), bias=False)\n",
              "        (bn3): BatchNorm2d(1024, eps=1e-05, momentum=0.1, affine=True, track_running_stats=True)\n",
              "        (relu): ReLU(inplace=True)\n",
              "      )\n",
              "      (8): Bottleneck(\n",
              "        (conv1): Conv2d(1024, 1024, kernel_size=(1, 1), stride=(1, 1), bias=False)\n",
              "        (bn1): BatchNorm2d(1024, eps=1e-05, momentum=0.1, affine=True, track_running_stats=True)\n",
              "        (conv2): Conv2d(1024, 1024, kernel_size=(3, 3), stride=(1, 1), padding=(1, 1), groups=32, bias=False)\n",
              "        (bn2): BatchNorm2d(1024, eps=1e-05, momentum=0.1, affine=True, track_running_stats=True)\n",
              "        (conv3): Conv2d(1024, 1024, kernel_size=(1, 1), stride=(1, 1), bias=False)\n",
              "        (bn3): BatchNorm2d(1024, eps=1e-05, momentum=0.1, affine=True, track_running_stats=True)\n",
              "        (relu): ReLU(inplace=True)\n",
              "      )\n",
              "      (9): Bottleneck(\n",
              "        (conv1): Conv2d(1024, 1024, kernel_size=(1, 1), stride=(1, 1), bias=False)\n",
              "        (bn1): BatchNorm2d(1024, eps=1e-05, momentum=0.1, affine=True, track_running_stats=True)\n",
              "        (conv2): Conv2d(1024, 1024, kernel_size=(3, 3), stride=(1, 1), padding=(1, 1), groups=32, bias=False)\n",
              "        (bn2): BatchNorm2d(1024, eps=1e-05, momentum=0.1, affine=True, track_running_stats=True)\n",
              "        (conv3): Conv2d(1024, 1024, kernel_size=(1, 1), stride=(1, 1), bias=False)\n",
              "        (bn3): BatchNorm2d(1024, eps=1e-05, momentum=0.1, affine=True, track_running_stats=True)\n",
              "        (relu): ReLU(inplace=True)\n",
              "      )\n",
              "      (10): Bottleneck(\n",
              "        (conv1): Conv2d(1024, 1024, kernel_size=(1, 1), stride=(1, 1), bias=False)\n",
              "        (bn1): BatchNorm2d(1024, eps=1e-05, momentum=0.1, affine=True, track_running_stats=True)\n",
              "        (conv2): Conv2d(1024, 1024, kernel_size=(3, 3), stride=(1, 1), padding=(1, 1), groups=32, bias=False)\n",
              "        (bn2): BatchNorm2d(1024, eps=1e-05, momentum=0.1, affine=True, track_running_stats=True)\n",
              "        (conv3): Conv2d(1024, 1024, kernel_size=(1, 1), stride=(1, 1), bias=False)\n",
              "        (bn3): BatchNorm2d(1024, eps=1e-05, momentum=0.1, affine=True, track_running_stats=True)\n",
              "        (relu): ReLU(inplace=True)\n",
              "      )\n",
              "      (11): Bottleneck(\n",
              "        (conv1): Conv2d(1024, 1024, kernel_size=(1, 1), stride=(1, 1), bias=False)\n",
              "        (bn1): BatchNorm2d(1024, eps=1e-05, momentum=0.1, affine=True, track_running_stats=True)\n",
              "        (conv2): Conv2d(1024, 1024, kernel_size=(3, 3), stride=(1, 1), padding=(1, 1), groups=32, bias=False)\n",
              "        (bn2): BatchNorm2d(1024, eps=1e-05, momentum=0.1, affine=True, track_running_stats=True)\n",
              "        (conv3): Conv2d(1024, 1024, kernel_size=(1, 1), stride=(1, 1), bias=False)\n",
              "        (bn3): BatchNorm2d(1024, eps=1e-05, momentum=0.1, affine=True, track_running_stats=True)\n",
              "        (relu): ReLU(inplace=True)\n",
              "      )\n",
              "      (12): Bottleneck(\n",
              "        (conv1): Conv2d(1024, 1024, kernel_size=(1, 1), stride=(1, 1), bias=False)\n",
              "        (bn1): BatchNorm2d(1024, eps=1e-05, momentum=0.1, affine=True, track_running_stats=True)\n",
              "        (conv2): Conv2d(1024, 1024, kernel_size=(3, 3), stride=(1, 1), padding=(1, 1), groups=32, bias=False)\n",
              "        (bn2): BatchNorm2d(1024, eps=1e-05, momentum=0.1, affine=True, track_running_stats=True)\n",
              "        (conv3): Conv2d(1024, 1024, kernel_size=(1, 1), stride=(1, 1), bias=False)\n",
              "        (bn3): BatchNorm2d(1024, eps=1e-05, momentum=0.1, affine=True, track_running_stats=True)\n",
              "        (relu): ReLU(inplace=True)\n",
              "      )\n",
              "      (13): Bottleneck(\n",
              "        (conv1): Conv2d(1024, 1024, kernel_size=(1, 1), stride=(1, 1), bias=False)\n",
              "        (bn1): BatchNorm2d(1024, eps=1e-05, momentum=0.1, affine=True, track_running_stats=True)\n",
              "        (conv2): Conv2d(1024, 1024, kernel_size=(3, 3), stride=(1, 1), padding=(1, 1), groups=32, bias=False)\n",
              "        (bn2): BatchNorm2d(1024, eps=1e-05, momentum=0.1, affine=True, track_running_stats=True)\n",
              "        (conv3): Conv2d(1024, 1024, kernel_size=(1, 1), stride=(1, 1), bias=False)\n",
              "        (bn3): BatchNorm2d(1024, eps=1e-05, momentum=0.1, affine=True, track_running_stats=True)\n",
              "        (relu): ReLU(inplace=True)\n",
              "      )\n",
              "      (14): Bottleneck(\n",
              "        (conv1): Conv2d(1024, 1024, kernel_size=(1, 1), stride=(1, 1), bias=False)\n",
              "        (bn1): BatchNorm2d(1024, eps=1e-05, momentum=0.1, affine=True, track_running_stats=True)\n",
              "        (conv2): Conv2d(1024, 1024, kernel_size=(3, 3), stride=(1, 1), padding=(1, 1), groups=32, bias=False)\n",
              "        (bn2): BatchNorm2d(1024, eps=1e-05, momentum=0.1, affine=True, track_running_stats=True)\n",
              "        (conv3): Conv2d(1024, 1024, kernel_size=(1, 1), stride=(1, 1), bias=False)\n",
              "        (bn3): BatchNorm2d(1024, eps=1e-05, momentum=0.1, affine=True, track_running_stats=True)\n",
              "        (relu): ReLU(inplace=True)\n",
              "      )\n",
              "      (15): Bottleneck(\n",
              "        (conv1): Conv2d(1024, 1024, kernel_size=(1, 1), stride=(1, 1), bias=False)\n",
              "        (bn1): BatchNorm2d(1024, eps=1e-05, momentum=0.1, affine=True, track_running_stats=True)\n",
              "        (conv2): Conv2d(1024, 1024, kernel_size=(3, 3), stride=(1, 1), padding=(1, 1), groups=32, bias=False)\n",
              "        (bn2): BatchNorm2d(1024, eps=1e-05, momentum=0.1, affine=True, track_running_stats=True)\n",
              "        (conv3): Conv2d(1024, 1024, kernel_size=(1, 1), stride=(1, 1), bias=False)\n",
              "        (bn3): BatchNorm2d(1024, eps=1e-05, momentum=0.1, affine=True, track_running_stats=True)\n",
              "        (relu): ReLU(inplace=True)\n",
              "      )\n",
              "      (16): Bottleneck(\n",
              "        (conv1): Conv2d(1024, 1024, kernel_size=(1, 1), stride=(1, 1), bias=False)\n",
              "        (bn1): BatchNorm2d(1024, eps=1e-05, momentum=0.1, affine=True, track_running_stats=True)\n",
              "        (conv2): Conv2d(1024, 1024, kernel_size=(3, 3), stride=(1, 1), padding=(1, 1), groups=32, bias=False)\n",
              "        (bn2): BatchNorm2d(1024, eps=1e-05, momentum=0.1, affine=True, track_running_stats=True)\n",
              "        (conv3): Conv2d(1024, 1024, kernel_size=(1, 1), stride=(1, 1), bias=False)\n",
              "        (bn3): BatchNorm2d(1024, eps=1e-05, momentum=0.1, affine=True, track_running_stats=True)\n",
              "        (relu): ReLU(inplace=True)\n",
              "      )\n",
              "      (17): Bottleneck(\n",
              "        (conv1): Conv2d(1024, 1024, kernel_size=(1, 1), stride=(1, 1), bias=False)\n",
              "        (bn1): BatchNorm2d(1024, eps=1e-05, momentum=0.1, affine=True, track_running_stats=True)\n",
              "        (conv2): Conv2d(1024, 1024, kernel_size=(3, 3), stride=(1, 1), padding=(1, 1), groups=32, bias=False)\n",
              "        (bn2): BatchNorm2d(1024, eps=1e-05, momentum=0.1, affine=True, track_running_stats=True)\n",
              "        (conv3): Conv2d(1024, 1024, kernel_size=(1, 1), stride=(1, 1), bias=False)\n",
              "        (bn3): BatchNorm2d(1024, eps=1e-05, momentum=0.1, affine=True, track_running_stats=True)\n",
              "        (relu): ReLU(inplace=True)\n",
              "      )\n",
              "      (18): Bottleneck(\n",
              "        (conv1): Conv2d(1024, 1024, kernel_size=(1, 1), stride=(1, 1), bias=False)\n",
              "        (bn1): BatchNorm2d(1024, eps=1e-05, momentum=0.1, affine=True, track_running_stats=True)\n",
              "        (conv2): Conv2d(1024, 1024, kernel_size=(3, 3), stride=(1, 1), padding=(1, 1), groups=32, bias=False)\n",
              "        (bn2): BatchNorm2d(1024, eps=1e-05, momentum=0.1, affine=True, track_running_stats=True)\n",
              "        (conv3): Conv2d(1024, 1024, kernel_size=(1, 1), stride=(1, 1), bias=False)\n",
              "        (bn3): BatchNorm2d(1024, eps=1e-05, momentum=0.1, affine=True, track_running_stats=True)\n",
              "        (relu): ReLU(inplace=True)\n",
              "      )\n",
              "      (19): Bottleneck(\n",
              "        (conv1): Conv2d(1024, 1024, kernel_size=(1, 1), stride=(1, 1), bias=False)\n",
              "        (bn1): BatchNorm2d(1024, eps=1e-05, momentum=0.1, affine=True, track_running_stats=True)\n",
              "        (conv2): Conv2d(1024, 1024, kernel_size=(3, 3), stride=(1, 1), padding=(1, 1), groups=32, bias=False)\n",
              "        (bn2): BatchNorm2d(1024, eps=1e-05, momentum=0.1, affine=True, track_running_stats=True)\n",
              "        (conv3): Conv2d(1024, 1024, kernel_size=(1, 1), stride=(1, 1), bias=False)\n",
              "        (bn3): BatchNorm2d(1024, eps=1e-05, momentum=0.1, affine=True, track_running_stats=True)\n",
              "        (relu): ReLU(inplace=True)\n",
              "      )\n",
              "      (20): Bottleneck(\n",
              "        (conv1): Conv2d(1024, 1024, kernel_size=(1, 1), stride=(1, 1), bias=False)\n",
              "        (bn1): BatchNorm2d(1024, eps=1e-05, momentum=0.1, affine=True, track_running_stats=True)\n",
              "        (conv2): Conv2d(1024, 1024, kernel_size=(3, 3), stride=(1, 1), padding=(1, 1), groups=32, bias=False)\n",
              "        (bn2): BatchNorm2d(1024, eps=1e-05, momentum=0.1, affine=True, track_running_stats=True)\n",
              "        (conv3): Conv2d(1024, 1024, kernel_size=(1, 1), stride=(1, 1), bias=False)\n",
              "        (bn3): BatchNorm2d(1024, eps=1e-05, momentum=0.1, affine=True, track_running_stats=True)\n",
              "        (relu): ReLU(inplace=True)\n",
              "      )\n",
              "      (21): Bottleneck(\n",
              "        (conv1): Conv2d(1024, 1024, kernel_size=(1, 1), stride=(1, 1), bias=False)\n",
              "        (bn1): BatchNorm2d(1024, eps=1e-05, momentum=0.1, affine=True, track_running_stats=True)\n",
              "        (conv2): Conv2d(1024, 1024, kernel_size=(3, 3), stride=(1, 1), padding=(1, 1), groups=32, bias=False)\n",
              "        (bn2): BatchNorm2d(1024, eps=1e-05, momentum=0.1, affine=True, track_running_stats=True)\n",
              "        (conv3): Conv2d(1024, 1024, kernel_size=(1, 1), stride=(1, 1), bias=False)\n",
              "        (bn3): BatchNorm2d(1024, eps=1e-05, momentum=0.1, affine=True, track_running_stats=True)\n",
              "        (relu): ReLU(inplace=True)\n",
              "      )\n",
              "      (22): Bottleneck(\n",
              "        (conv1): Conv2d(1024, 1024, kernel_size=(1, 1), stride=(1, 1), bias=False)\n",
              "        (bn1): BatchNorm2d(1024, eps=1e-05, momentum=0.1, affine=True, track_running_stats=True)\n",
              "        (conv2): Conv2d(1024, 1024, kernel_size=(3, 3), stride=(1, 1), padding=(1, 1), groups=32, bias=False)\n",
              "        (bn2): BatchNorm2d(1024, eps=1e-05, momentum=0.1, affine=True, track_running_stats=True)\n",
              "        (conv3): Conv2d(1024, 1024, kernel_size=(1, 1), stride=(1, 1), bias=False)\n",
              "        (bn3): BatchNorm2d(1024, eps=1e-05, momentum=0.1, affine=True, track_running_stats=True)\n",
              "        (relu): ReLU(inplace=True)\n",
              "      )\n",
              "    )\n",
              "    (layer4): Sequential(\n",
              "      (0): Bottleneck(\n",
              "        (conv1): Conv2d(1024, 2048, kernel_size=(1, 1), stride=(1, 1), bias=False)\n",
              "        (bn1): BatchNorm2d(2048, eps=1e-05, momentum=0.1, affine=True, track_running_stats=True)\n",
              "        (conv2): Conv2d(2048, 2048, kernel_size=(3, 3), stride=(2, 2), padding=(1, 1), groups=32, bias=False)\n",
              "        (bn2): BatchNorm2d(2048, eps=1e-05, momentum=0.1, affine=True, track_running_stats=True)\n",
              "        (conv3): Conv2d(2048, 2048, kernel_size=(1, 1), stride=(1, 1), bias=False)\n",
              "        (bn3): BatchNorm2d(2048, eps=1e-05, momentum=0.1, affine=True, track_running_stats=True)\n",
              "        (relu): ReLU(inplace=True)\n",
              "        (downsample): Sequential(\n",
              "          (0): Conv2d(1024, 2048, kernel_size=(1, 1), stride=(2, 2), bias=False)\n",
              "          (1): BatchNorm2d(2048, eps=1e-05, momentum=0.1, affine=True, track_running_stats=True)\n",
              "        )\n",
              "      )\n",
              "      (1): Bottleneck(\n",
              "        (conv1): Conv2d(2048, 2048, kernel_size=(1, 1), stride=(1, 1), bias=False)\n",
              "        (bn1): BatchNorm2d(2048, eps=1e-05, momentum=0.1, affine=True, track_running_stats=True)\n",
              "        (conv2): Conv2d(2048, 2048, kernel_size=(3, 3), stride=(1, 1), padding=(1, 1), groups=32, bias=False)\n",
              "        (bn2): BatchNorm2d(2048, eps=1e-05, momentum=0.1, affine=True, track_running_stats=True)\n",
              "        (conv3): Conv2d(2048, 2048, kernel_size=(1, 1), stride=(1, 1), bias=False)\n",
              "        (bn3): BatchNorm2d(2048, eps=1e-05, momentum=0.1, affine=True, track_running_stats=True)\n",
              "        (relu): ReLU(inplace=True)\n",
              "      )\n",
              "      (2): Bottleneck(\n",
              "        (conv1): Conv2d(2048, 2048, kernel_size=(1, 1), stride=(1, 1), bias=False)\n",
              "        (bn1): BatchNorm2d(2048, eps=1e-05, momentum=0.1, affine=True, track_running_stats=True)\n",
              "        (conv2): Conv2d(2048, 2048, kernel_size=(3, 3), stride=(1, 1), padding=(1, 1), groups=32, bias=False)\n",
              "        (bn2): BatchNorm2d(2048, eps=1e-05, momentum=0.1, affine=True, track_running_stats=True)\n",
              "        (conv3): Conv2d(2048, 2048, kernel_size=(1, 1), stride=(1, 1), bias=False)\n",
              "        (bn3): BatchNorm2d(2048, eps=1e-05, momentum=0.1, affine=True, track_running_stats=True)\n",
              "        (relu): ReLU(inplace=True)\n",
              "      )\n",
              "    )\n",
              "    (avgpool): AdaptiveAvgPool2d(output_size=(1, 1))\n",
              "    (fc): Sequential(\n",
              "      (0): Linear(in_features=2048, out_features=2, bias=True)\n",
              "    )\n",
              "  )\n",
              ")"
            ]
          },
          "metadata": {
            "tags": []
          },
          "execution_count": 21
        }
      ]
    },
    {
      "cell_type": "markdown",
      "metadata": {
        "id": "amj26Zm9Cko3",
        "papermill": {
          "duration": 0.020022,
          "end_time": "2021-03-01T12:33:00.241553",
          "exception": false,
          "start_time": "2021-03-01T12:33:00.221531",
          "status": "completed"
        },
        "tags": []
      },
      "source": [
        "**Hyperparameters**"
      ]
    },
    {
      "cell_type": "code",
      "metadata": {
        "execution": {
          "iopub.execute_input": "2021-03-01T12:33:00.294985Z",
          "iopub.status.busy": "2021-03-01T12:33:00.294278Z",
          "iopub.status.idle": "2021-03-01T12:33:00.298749Z",
          "shell.execute_reply": "2021-03-01T12:33:00.298172Z"
        },
        "id": "t0D-_wCDCko4",
        "papermill": {
          "duration": 0.036619,
          "end_time": "2021-03-01T12:33:00.298903",
          "exception": false,
          "start_time": "2021-03-01T12:33:00.262284",
          "status": "completed"
        },
        "tags": []
      },
      "source": [
        "## Loss Function\n",
        "criterion = nn.CrossEntropyLoss()\n",
        "\n",
        "# Optimizer\n",
        "optimizer = torch.optim.SGD(model.parameters(), lr=0.1, weight_decay=1e-4, momentum=0.9)\n",
        "\n",
        "lr_scheduler = torch.optim.lr_scheduler.StepLR(optimizer, step_size= 20, gamma = 0.1)\n",
        "\n",
        "# Epochs\n",
        "num_Epochs = 40\n"
      ],
      "execution_count": null,
      "outputs": []
    },
    {
      "cell_type": "code",
      "metadata": {
        "execution": {
          "iopub.execute_input": "2021-03-01T12:33:00.348022Z",
          "iopub.status.busy": "2021-03-01T12:33:00.347090Z",
          "iopub.status.idle": "2021-03-01T12:37:36.758781Z",
          "shell.execute_reply": "2021-03-01T12:37:36.759414Z"
        },
        "id": "Mb_sxW8VCko4",
        "papermill": {
          "duration": 276.440471,
          "end_time": "2021-03-01T12:37:36.759604",
          "exception": false,
          "start_time": "2021-03-01T12:33:00.319133",
          "status": "completed"
        },
        "tags": []
      },
      "source": [
        "writer = SummaryWriter(\"ResNeXt101_32x8d\")\n",
        "\n",
        "train(model, train_dataloader, validation_dataloader, criterion, optimizer, lr_scheduler, modelpath, writer, device, epochs = num_Epochs)\\\n",
        "\n",
        "writer.flush()\n",
        "writer.close()"
      ],
      "execution_count": null,
      "outputs": []
    },
    {
      "cell_type": "code",
      "metadata": {
        "execution": {
          "iopub.execute_input": "2021-03-01T12:37:36.833431Z",
          "iopub.status.busy": "2021-03-01T12:37:36.820891Z",
          "iopub.status.idle": "2021-03-01T12:37:36.848403Z",
          "shell.execute_reply": "2021-03-01T12:37:36.847859Z"
        },
        "id": "BBwlfv5nCko5",
        "papermill": {
          "duration": 0.066111,
          "end_time": "2021-03-01T12:37:36.848550",
          "exception": false,
          "start_time": "2021-03-01T12:37:36.782439",
          "status": "completed"
        },
        "tags": []
      },
      "source": [
        "'''\n",
        "Load saved model from checkpoint\n",
        "'''\n",
        "model, optimizer, lr_scheduler, train_loss, v_loss, v_acc, epoch = load(modelpath, model, optimizer, lr_scheduler)"
      ],
      "execution_count": null,
      "outputs": []
    },
    {
      "cell_type": "markdown",
      "metadata": {
        "id": "3amO7aogCko6",
        "papermill": {
          "duration": 0.023306,
          "end_time": "2021-03-01T12:37:36.895804",
          "exception": false,
          "start_time": "2021-03-01T12:37:36.872498",
          "status": "completed"
        },
        "tags": []
      },
      "source": [
        "**Evaluate**"
      ]
    },
    {
      "cell_type": "code",
      "metadata": {
        "execution": {
          "iopub.execute_input": "2021-03-01T12:37:36.950248Z",
          "iopub.status.busy": "2021-03-01T12:37:36.949278Z",
          "iopub.status.idle": "2021-03-01T12:37:50.578302Z",
          "shell.execute_reply": "2021-03-01T12:37:50.578974Z"
        },
        "id": "04ciej8cCko6",
        "papermill": {
          "duration": 13.660393,
          "end_time": "2021-03-01T12:37:50.579147",
          "exception": false,
          "start_time": "2021-03-01T12:37:36.918754",
          "status": "completed"
        },
        "scrolled": true,
        "tags": []
      },
      "source": [
        "test_classify(model, validation_dataloader, criterion, device)"
      ],
      "execution_count": null,
      "outputs": []
    },
    {
      "cell_type": "code",
      "metadata": {
        "execution": {
          "iopub.execute_input": "2021-03-01T12:37:50.637240Z",
          "iopub.status.busy": "2021-03-01T12:37:50.635818Z",
          "iopub.status.idle": "2021-03-01T12:40:15.679866Z",
          "shell.execute_reply": "2021-03-01T12:40:15.680413Z"
        },
        "id": "rwM6JanVCko8",
        "papermill": {
          "duration": 145.07679,
          "end_time": "2021-03-01T12:40:15.680627",
          "exception": false,
          "start_time": "2021-03-01T12:37:50.603837",
          "status": "completed"
        },
        "tags": []
      },
      "source": [
        "avg_loss = 0\n",
        "\n",
        "for batch_num, (feats, captions, input_id, attention_masks, target) in enumerate(train_dataloader):\n",
        "        feats, target = feats.to(device), target.to(device)\n",
        "\n",
        "\n",
        "        '''\n",
        "        Compute output and Loss\n",
        "        '''\n",
        "        output, embeddings = model(feats) \n",
        "        total_loss = criterion(output, target)\n",
        "        \n",
        "        \n",
        "        avg_loss += total_loss.item()\n",
        "        \n",
        "        \n",
        "avg_loss/len(train_dataloader)"
      ],
      "execution_count": null,
      "outputs": []
    },
    {
      "cell_type": "code",
      "metadata": {
        "execution": {
          "iopub.execute_input": "2021-03-01T12:40:15.739929Z",
          "iopub.status.busy": "2021-03-01T12:40:15.739023Z",
          "iopub.status.idle": "2021-03-01T12:40:15.767771Z",
          "shell.execute_reply": "2021-03-01T12:40:15.768271Z"
        },
        "id": "GQG8TRmTCko8",
        "papermill": {
          "duration": 0.062634,
          "end_time": "2021-03-01T12:40:15.768453",
          "exception": false,
          "start_time": "2021-03-01T12:40:15.705819",
          "status": "completed"
        },
        "tags": []
      },
      "source": [
        "'''\n",
        "Scale of embeddings\n",
        "'''\n",
        "embeddings[0][0:100]"
      ],
      "execution_count": null,
      "outputs": []
    },
    {
      "cell_type": "code",
      "metadata": {
        "execution": {
          "iopub.execute_input": "2021-03-01T12:40:15.823922Z",
          "iopub.status.busy": "2021-03-01T12:40:15.823260Z",
          "iopub.status.idle": "2021-03-01T12:40:15.832860Z",
          "shell.execute_reply": "2021-03-01T12:40:15.833363Z"
        },
        "id": "RJV0jhMFCko9",
        "papermill": {
          "duration": 0.039725,
          "end_time": "2021-03-01T12:40:15.833561",
          "exception": false,
          "start_time": "2021-03-01T12:40:15.793836",
          "status": "completed"
        },
        "tags": []
      },
      "source": [
        "'''\n",
        "Scale of output\n",
        "'''\n",
        "output[0]"
      ],
      "execution_count": null,
      "outputs": []
    },
    {
      "cell_type": "code",
      "metadata": {
        "id": "pM0JScDlcpVy"
      },
      "source": [
        "!cp \"/content/ResNeXt101_32x8d\" \"/content/gdrive/MyDrive/Kaggle/saved_model_checkpoints\""
      ],
      "execution_count": null,
      "outputs": []
    },
    {
      "cell_type": "code",
      "metadata": {
        "id": "TTmkcIlacvR4"
      },
      "source": [
        ""
      ],
      "execution_count": null,
      "outputs": []
    }
  ]
}